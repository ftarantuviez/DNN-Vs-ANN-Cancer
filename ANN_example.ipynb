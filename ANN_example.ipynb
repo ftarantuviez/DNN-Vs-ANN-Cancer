{
 "cells": [
  {
   "cell_type": "code",
   "execution_count": 1,
   "metadata": {},
   "outputs": [],
   "source": [
    "import numpy as np\n",
    "import pandas as pd\n",
    "from keras.models import Sequential\n",
    "from keras.layers import Dense, Dropout\n",
    "import matplotlib.pyplot as plt\n",
    "import json"
   ]
  },
  {
   "cell_type": "markdown",
   "metadata": {},
   "source": [
    "Un modelo de keras puede ser secuencial o functional. Que sea secuencial quiere decir que es un modelo relativamente básico sin muchos features."
   ]
  },
  {
   "cell_type": "code",
   "execution_count": 2,
   "metadata": {},
   "outputs": [],
   "source": [
    "from sklearn.datasets import load_breast_cancer\n",
    "from sklearn.model_selection import train_test_split\n",
    "from sklearn import metrics"
   ]
  },
  {
   "cell_type": "markdown",
   "metadata": {},
   "source": [
    "Acá se importa el dataset load_breast_cancer ya que la finalidad de este modelo es predecir si es un cáncer benigno o un cáncer maligno."
   ]
  },
  {
   "cell_type": "code",
   "execution_count": 3,
   "metadata": {},
   "outputs": [],
   "source": [
    "cancer = load_breast_cancer()\n",
    "\n",
    "X_train, X_test, y_train, y_test = train_test_split(cancer.data, cancer.target, test_size=.3, random_state=42)"
   ]
  },
  {
   "cell_type": "code",
   "execution_count": 4,
   "metadata": {},
   "outputs": [
    {
     "data": {
      "text/html": [
       "<div>\n",
       "<style scoped>\n",
       "    .dataframe tbody tr th:only-of-type {\n",
       "        vertical-align: middle;\n",
       "    }\n",
       "\n",
       "    .dataframe tbody tr th {\n",
       "        vertical-align: top;\n",
       "    }\n",
       "\n",
       "    .dataframe thead th {\n",
       "        text-align: right;\n",
       "    }\n",
       "</style>\n",
       "<table border=\"1\" class=\"dataframe\">\n",
       "  <thead>\n",
       "    <tr style=\"text-align: right;\">\n",
       "      <th></th>\n",
       "      <th>0</th>\n",
       "      <th>1</th>\n",
       "      <th>2</th>\n",
       "      <th>3</th>\n",
       "      <th>4</th>\n",
       "      <th>5</th>\n",
       "      <th>6</th>\n",
       "      <th>7</th>\n",
       "      <th>8</th>\n",
       "      <th>9</th>\n",
       "      <th>...</th>\n",
       "      <th>20</th>\n",
       "      <th>21</th>\n",
       "      <th>22</th>\n",
       "      <th>23</th>\n",
       "      <th>24</th>\n",
       "      <th>25</th>\n",
       "      <th>26</th>\n",
       "      <th>27</th>\n",
       "      <th>28</th>\n",
       "      <th>29</th>\n",
       "    </tr>\n",
       "  </thead>\n",
       "  <tbody>\n",
       "    <tr>\n",
       "      <th>0</th>\n",
       "      <td>17.99</td>\n",
       "      <td>10.38</td>\n",
       "      <td>122.80</td>\n",
       "      <td>1001.0</td>\n",
       "      <td>0.11840</td>\n",
       "      <td>0.27760</td>\n",
       "      <td>0.3001</td>\n",
       "      <td>0.14710</td>\n",
       "      <td>0.2419</td>\n",
       "      <td>0.07871</td>\n",
       "      <td>...</td>\n",
       "      <td>25.38</td>\n",
       "      <td>17.33</td>\n",
       "      <td>184.60</td>\n",
       "      <td>2019.0</td>\n",
       "      <td>0.1622</td>\n",
       "      <td>0.6656</td>\n",
       "      <td>0.7119</td>\n",
       "      <td>0.2654</td>\n",
       "      <td>0.4601</td>\n",
       "      <td>0.11890</td>\n",
       "    </tr>\n",
       "    <tr>\n",
       "      <th>1</th>\n",
       "      <td>20.57</td>\n",
       "      <td>17.77</td>\n",
       "      <td>132.90</td>\n",
       "      <td>1326.0</td>\n",
       "      <td>0.08474</td>\n",
       "      <td>0.07864</td>\n",
       "      <td>0.0869</td>\n",
       "      <td>0.07017</td>\n",
       "      <td>0.1812</td>\n",
       "      <td>0.05667</td>\n",
       "      <td>...</td>\n",
       "      <td>24.99</td>\n",
       "      <td>23.41</td>\n",
       "      <td>158.80</td>\n",
       "      <td>1956.0</td>\n",
       "      <td>0.1238</td>\n",
       "      <td>0.1866</td>\n",
       "      <td>0.2416</td>\n",
       "      <td>0.1860</td>\n",
       "      <td>0.2750</td>\n",
       "      <td>0.08902</td>\n",
       "    </tr>\n",
       "    <tr>\n",
       "      <th>2</th>\n",
       "      <td>19.69</td>\n",
       "      <td>21.25</td>\n",
       "      <td>130.00</td>\n",
       "      <td>1203.0</td>\n",
       "      <td>0.10960</td>\n",
       "      <td>0.15990</td>\n",
       "      <td>0.1974</td>\n",
       "      <td>0.12790</td>\n",
       "      <td>0.2069</td>\n",
       "      <td>0.05999</td>\n",
       "      <td>...</td>\n",
       "      <td>23.57</td>\n",
       "      <td>25.53</td>\n",
       "      <td>152.50</td>\n",
       "      <td>1709.0</td>\n",
       "      <td>0.1444</td>\n",
       "      <td>0.4245</td>\n",
       "      <td>0.4504</td>\n",
       "      <td>0.2430</td>\n",
       "      <td>0.3613</td>\n",
       "      <td>0.08758</td>\n",
       "    </tr>\n",
       "    <tr>\n",
       "      <th>3</th>\n",
       "      <td>11.42</td>\n",
       "      <td>20.38</td>\n",
       "      <td>77.58</td>\n",
       "      <td>386.1</td>\n",
       "      <td>0.14250</td>\n",
       "      <td>0.28390</td>\n",
       "      <td>0.2414</td>\n",
       "      <td>0.10520</td>\n",
       "      <td>0.2597</td>\n",
       "      <td>0.09744</td>\n",
       "      <td>...</td>\n",
       "      <td>14.91</td>\n",
       "      <td>26.50</td>\n",
       "      <td>98.87</td>\n",
       "      <td>567.7</td>\n",
       "      <td>0.2098</td>\n",
       "      <td>0.8663</td>\n",
       "      <td>0.6869</td>\n",
       "      <td>0.2575</td>\n",
       "      <td>0.6638</td>\n",
       "      <td>0.17300</td>\n",
       "    </tr>\n",
       "    <tr>\n",
       "      <th>4</th>\n",
       "      <td>20.29</td>\n",
       "      <td>14.34</td>\n",
       "      <td>135.10</td>\n",
       "      <td>1297.0</td>\n",
       "      <td>0.10030</td>\n",
       "      <td>0.13280</td>\n",
       "      <td>0.1980</td>\n",
       "      <td>0.10430</td>\n",
       "      <td>0.1809</td>\n",
       "      <td>0.05883</td>\n",
       "      <td>...</td>\n",
       "      <td>22.54</td>\n",
       "      <td>16.67</td>\n",
       "      <td>152.20</td>\n",
       "      <td>1575.0</td>\n",
       "      <td>0.1374</td>\n",
       "      <td>0.2050</td>\n",
       "      <td>0.4000</td>\n",
       "      <td>0.1625</td>\n",
       "      <td>0.2364</td>\n",
       "      <td>0.07678</td>\n",
       "    </tr>\n",
       "  </tbody>\n",
       "</table>\n",
       "<p>5 rows × 30 columns</p>\n",
       "</div>"
      ],
      "text/plain": [
       "      0      1       2       3        4        5       6        7       8   \\\n",
       "0  17.99  10.38  122.80  1001.0  0.11840  0.27760  0.3001  0.14710  0.2419   \n",
       "1  20.57  17.77  132.90  1326.0  0.08474  0.07864  0.0869  0.07017  0.1812   \n",
       "2  19.69  21.25  130.00  1203.0  0.10960  0.15990  0.1974  0.12790  0.2069   \n",
       "3  11.42  20.38   77.58   386.1  0.14250  0.28390  0.2414  0.10520  0.2597   \n",
       "4  20.29  14.34  135.10  1297.0  0.10030  0.13280  0.1980  0.10430  0.1809   \n",
       "\n",
       "        9   ...     20     21      22      23      24      25      26      27  \\\n",
       "0  0.07871  ...  25.38  17.33  184.60  2019.0  0.1622  0.6656  0.7119  0.2654   \n",
       "1  0.05667  ...  24.99  23.41  158.80  1956.0  0.1238  0.1866  0.2416  0.1860   \n",
       "2  0.05999  ...  23.57  25.53  152.50  1709.0  0.1444  0.4245  0.4504  0.2430   \n",
       "3  0.09744  ...  14.91  26.50   98.87   567.7  0.2098  0.8663  0.6869  0.2575   \n",
       "4  0.05883  ...  22.54  16.67  152.20  1575.0  0.1374  0.2050  0.4000  0.1625   \n",
       "\n",
       "       28       29  \n",
       "0  0.4601  0.11890  \n",
       "1  0.2750  0.08902  \n",
       "2  0.3613  0.08758  \n",
       "3  0.6638  0.17300  \n",
       "4  0.2364  0.07678  \n",
       "\n",
       "[5 rows x 30 columns]"
      ]
     },
     "execution_count": 4,
     "metadata": {},
     "output_type": "execute_result"
    }
   ],
   "source": [
    "pd.DataFrame(cancer.data).head()"
   ]
  },
  {
   "cell_type": "code",
   "execution_count": 5,
   "metadata": {},
   "outputs": [],
   "source": [
    "model = Sequential()\n",
    "model.add(Dense(15, input_dim=30, activation=\"relu\"))\n",
    "model.add(Dense(1, activation=\"sigmoid\"))"
   ]
  },
  {
   "cell_type": "markdown",
   "metadata": {},
   "source": [
    "En este punto se inicializa nuestro modelo **secuencial** sin ningún parámetro que no sea default.\n",
    "Luego, añadimos un layer que va a contener 15 neuronas, y nosotros tenemos 30 atributos, es decir una neurona cada dos features.\n",
    "El **Dense** layer significa que es *fully connected* layer. Entonces en este caso particular, cada neurona estará totalmente conectada a los 30 features de input.\n",
    "Luego, tendremos un *output layer* de una sola neurona, que tendrá como función de activación a la función sigmoid, la cual tomará el valor y lo convertirá en un valor binario (1, 0)\n"
   ]
  },
  {
   "cell_type": "code",
   "execution_count": 6,
   "metadata": {},
   "outputs": [],
   "source": [
    "model.compile(loss=\"binary_crossentropy\", optimizer=\"rmsprop\", metrics=[\"accuracy\"])"
   ]
  },
  {
   "cell_type": "markdown",
   "metadata": {},
   "source": [
    "Acá toca el segundo paso, la compilación. En este punto se pasan como parámteros la función de pérdida, el optimizador y la métrica que se evaluará.\n",
    "**binary_crossentropy** es la función standard para problemas de clasificación binaria.\n",
    "**rmsprop** es una actualización optimizada del algoritmo.\n",
    "**accuracy** mide la exactitud entre los valores"
   ]
  },
  {
   "cell_type": "code",
   "execution_count": 7,
   "metadata": {},
   "outputs": [
    {
     "name": "stdout",
     "output_type": "stream",
     "text": [
      "Epoch 1/20\n",
      "8/8 [==============================] - 0s 960us/step - loss: 66.9058 - accuracy: 0.3744\n",
      "Epoch 2/20\n",
      "8/8 [==============================] - 0s 779us/step - loss: 44.8403 - accuracy: 0.3744\n",
      "Epoch 3/20\n",
      "8/8 [==============================] - 0s 768us/step - loss: 28.2735 - accuracy: 0.3744\n",
      "Epoch 4/20\n",
      "8/8 [==============================] - 0s 718us/step - loss: 13.0740 - accuracy: 0.3894\n",
      "Epoch 5/20\n",
      "8/8 [==============================] - 0s 758us/step - loss: 2.9172 - accuracy: 0.6709\n",
      "Epoch 6/20\n",
      "8/8 [==============================] - 0s 707us/step - loss: 1.1741 - accuracy: 0.8518\n",
      "Epoch 7/20\n",
      "8/8 [==============================] - 0s 717us/step - loss: 1.0408 - accuracy: 0.8769\n",
      "Epoch 8/20\n",
      "8/8 [==============================] - 0s 742us/step - loss: 1.0493 - accuracy: 0.8819\n",
      "Epoch 9/20\n",
      "8/8 [==============================] - 0s 703us/step - loss: 0.9568 - accuracy: 0.8719\n",
      "Epoch 10/20\n",
      "8/8 [==============================] - 0s 710us/step - loss: 1.0163 - accuracy: 0.8668\n",
      "Epoch 11/20\n",
      "8/8 [==============================] - 0s 715us/step - loss: 0.9326 - accuracy: 0.8643\n",
      "Epoch 12/20\n",
      "8/8 [==============================] - 0s 695us/step - loss: 0.9221 - accuracy: 0.8794\n",
      "Epoch 13/20\n",
      "8/8 [==============================] - 0s 684us/step - loss: 0.9654 - accuracy: 0.8593\n",
      "Epoch 14/20\n",
      "8/8 [==============================] - 0s 712us/step - loss: 0.8696 - accuracy: 0.8668\n",
      "Epoch 15/20\n",
      "8/8 [==============================] - 0s 848us/step - loss: 0.8732 - accuracy: 0.8744\n",
      "Epoch 16/20\n",
      "8/8 [==============================] - 0s 1ms/step - loss: 0.8223 - accuracy: 0.8719\n",
      "Epoch 17/20\n",
      "8/8 [==============================] - 0s 731us/step - loss: 0.8505 - accuracy: 0.8618\n",
      "Epoch 18/20\n",
      "8/8 [==============================] - 0s 720us/step - loss: 0.8522 - accuracy: 0.8719\n",
      "Epoch 19/20\n",
      "8/8 [==============================] - 0s 759us/step - loss: 0.8291 - accuracy: 0.8869\n",
      "Epoch 20/20\n",
      "8/8 [==============================] - 0s 704us/step - loss: 0.8034 - accuracy: 0.8769\n",
      "WARNING:tensorflow:From /home/francisco/anaconda3/lib/python3.8/site-packages/tensorflow/python/ops/resource_variable_ops.py:1813: calling BaseResourceVariable.__init__ (from tensorflow.python.ops.resource_variable_ops) with constraint is deprecated and will be removed in a future version.\n",
      "Instructions for updating:\n",
      "If using Keras pass *_constraint arguments to layers.\n",
      "INFO:tensorflow:Assets written to: ANN_model/assets\n"
     ]
    }
   ],
   "source": [
    "history = model.fit(X_train, y_train, epochs=20, batch_size=50)\n",
    "\n",
    "json_file = open(\"ANN_history.json\", \"w\")\n",
    "json.dump(history.history, json_file)\n",
    "json_file.close()\n",
    "\n",
    "model.save(\"ANN_model\")"
   ]
  },
  {
   "cell_type": "markdown",
   "metadata": {},
   "source": [
    "Acá se entrena al modelo y se pasan como parámetros: *Train features*, *Train outputs*, *epochs* y *batch_size*\n",
    "**epochs** indica la cantidad de veces que se va a realizar el *foward propagation* y *backward propagation* en el modelo\n",
    "**batch_size** dice de a cuantos datos ir pasando al modelo.\n",
    "Acá como resultados, podemos ver que el algoritmo a medida que se ejecuta (los *epochs*), va aprendiendo. El accuracy sube y la pérdida se ve reducida."
   ]
  },
  {
   "cell_type": "code",
   "execution_count": 8,
   "metadata": {},
   "outputs": [
    {
     "data": {
      "text/plain": [
       "Text(0.5, 1.0, 'Loss vs Accuracy')"
      ]
     },
     "execution_count": 8,
     "metadata": {},
     "output_type": "execute_result"
    },
    {
     "data": {
      "image/png": "[encoded data removed]",
      "text/plain": [
       "<Figure size 432x288 with 1 Axes>"
      ]
     },
     "metadata": {
      "needs_background": "light"
     },
     "output_type": "display_data"
    }
   ],
   "source": [
    "plt.plot(history.history[\"loss\"], label=\"Loss\")\n",
    "plt.plot(history.history[\"accuracy\"], label=\"Accuracy\")\n",
    "plt.xticks(range(0,21, 2))\n",
    "plt.title(\"Loss vs Accuracy\")"
   ]
  },
  {
   "cell_type": "code",
   "execution_count": 9,
   "metadata": {},
   "outputs": [
    {
     "name": "stdout",
     "output_type": "stream",
     "text": [
      "WARNING:tensorflow:From <ipython-input-9-79c16e764e8e>:1: Sequential.predict_classes (from tensorflow.python.keras.engine.sequential) is deprecated and will be removed after 2021-01-01.\n",
      "Instructions for updating:\n",
      "Please use instead:* `np.argmax(model.predict(x), axis=-1)`,   if your model does multi-class classification   (e.g. if it uses a `softmax` last-layer activation).* `(model.predict(x) > 0.5).astype(\"int32\")`,   if your model does binary classification   (e.g. if it uses a `sigmoid` last-layer activation).\n",
      "WARNING:tensorflow:From <ipython-input-9-79c16e764e8e>:2: Sequential.predict_proba (from tensorflow.python.keras.engine.sequential) is deprecated and will be removed after 2021-01-01.\n",
      "Instructions for updating:\n",
      "Please use `model.predict()` instead.\n"
     ]
    },
    {
     "data": {
      "text/plain": [
       "(array([[0],\n",
       "        [0],\n",
       "        [0],\n",
       "        [1],\n",
       "        [1]], dtype=int32),\n",
       " array([[1.1485010e-02],\n",
       "        [4.1482529e-38],\n",
       "        [2.8173204e-14],\n",
       "        [9.9999940e-01],\n",
       "        [9.9999595e-01]], dtype=float32))"
      ]
     },
     "execution_count": 9,
     "metadata": {},
     "output_type": "execute_result"
    }
   ],
   "source": [
    "predictions = model.predict_classes(X_test)\n",
    "predictions_proba = model.predict_proba(X_test)\n",
    "predictions[:5], predictions_proba[:5]"
   ]
  },
  {
   "cell_type": "code",
   "execution_count": 10,
   "metadata": {},
   "outputs": [
    {
     "data": {
      "text/plain": [
       "{'loss': [66.90582275390625,\n",
       "  44.84028625488281,\n",
       "  28.27347755432129,\n",
       "  13.073954582214355,\n",
       "  2.917238473892212,\n",
       "  1.1741127967834473,\n",
       "  1.0408012866973877,\n",
       "  1.0493085384368896,\n",
       "  0.9568497538566589,\n",
       "  1.0163277387619019,\n",
       "  0.9325693249702454,\n",
       "  0.9220734238624573,\n",
       "  0.9653641581535339,\n",
       "  0.8695782423019409,\n",
       "  0.8731582760810852,\n",
       "  0.8222607374191284,\n",
       "  0.8504917025566101,\n",
       "  0.8521819114685059,\n",
       "  0.8291455507278442,\n",
       "  0.8034445643424988],\n",
       " 'accuracy': [0.37437185645103455,\n",
       "  0.37437185645103455,\n",
       "  0.37437185645103455,\n",
       "  0.38944724202156067,\n",
       "  0.6708542704582214,\n",
       "  0.8517587780952454,\n",
       "  0.876884400844574,\n",
       "  0.8819095492362976,\n",
       "  0.8718593120574951,\n",
       "  0.8668341636657715,\n",
       "  0.8643215894699097,\n",
       "  0.8793969750404358,\n",
       "  0.8592965006828308,\n",
       "  0.8668341636657715,\n",
       "  0.8743718862533569,\n",
       "  0.8718593120574951,\n",
       "  0.8618090748786926,\n",
       "  0.8718593120574951,\n",
       "  0.8869346976280212,\n",
       "  0.876884400844574]}"
      ]
     },
     "execution_count": 10,
     "metadata": {},
     "output_type": "execute_result"
    }
   ],
   "source": [
    "history.history"
   ]
  },
  {
   "cell_type": "markdown",
   "metadata": {},
   "source": [
    "Acá utilizamos *predict_classes* para determinar las clases respectivas a cada predicción con los datos de prueba."
   ]
  },
  {
   "cell_type": "code",
   "execution_count": 11,
   "metadata": {},
   "outputs": [
    {
     "name": "stdout",
     "output_type": "stream",
     "text": [
      "Accuracy:  0.9298245614035088\n",
      "              precision    recall  f1-score   support\n",
      "\n",
      "           0       0.88      0.94      0.91        63\n",
      "           1       0.96      0.93      0.94       108\n",
      "\n",
      "    accuracy                           0.93       171\n",
      "   macro avg       0.92      0.93      0.93       171\n",
      "weighted avg       0.93      0.93      0.93       171\n",
      "\n"
     ]
    }
   ],
   "source": [
    "print(\"Accuracy: \", metrics.accuracy_score(y_true=y_test, y_pred=predictions))\n",
    "print(metrics.classification_report(y_true=y_test, y_pred=predictions))"
   ]
  },
  {
   "cell_type": "markdown",
   "metadata": {},
   "source": [
    "Acá utilizamos el módulo de métricas de sklearn, donde el primero nos dice el accuracy comparando los resultados predichos por el modelo con los verdadeos.\n",
    "Y classification_report nos da unas métricas más detalladas, donde podemos observar que la precision para los pacientes que tienen cáncer maligno es del 85%, y con una cantidad de estos de 108 pacientes. Esto no son buenas métricas."
   ]
  },
  {
   "cell_type": "code",
   "execution_count": 12,
   "metadata": {},
   "outputs": [
    {
     "data": {
      "text/plain": [
       "Text(0.5, 1.0, 'Confusion matrix for ANN')"
      ]
     },
     "execution_count": 12,
     "metadata": {},
     "output_type": "execute_result"
    },
    {
     "data": {
      "image/png": "[encoded data removed]",
      "text/plain": [
       "<Figure size 432x288 with 2 Axes>"
      ]
     },
     "metadata": {
      "needs_background": "light"
     },
     "output_type": "display_data"
    }
   ],
   "source": [
    "import seaborn as sns\n",
    "sns.heatmap(metrics.confusion_matrix(y_pred=predictions, y_true=y_test), annot=True)\n",
    "plt.title(\"Confusion matrix for ANN\")"
   ]
  }
 ],
 "metadata": {
  "kernelspec": {
   "display_name": "Python 3",
   "language": "python",
   "name": "python3"
  },
  "language_info": {
   "codemirror_mode": {
    "name": "ipython",
    "version": 3
   },
   "file_extension": ".py",
   "mimetype": "text/x-python",
   "name": "python",
   "nbconvert_exporter": "python",
   "pygments_lexer": "ipython3",
   "version": "3.8.5"
  }
 },
 "nbformat": 4,
 "nbformat_minor": 4
}
