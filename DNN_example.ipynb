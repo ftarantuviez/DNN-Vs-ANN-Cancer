{
 "cells": [
  {
   "cell_type": "code",
   "execution_count": 1,
   "metadata": {},
   "outputs": [],
   "source": [
    "import numpy as np\n",
    "\n",
    "from keras.models import Sequential\n",
    "from keras.layers import Dense, Dropout\n",
    "\n",
    "from sklearn.datasets import load_breast_cancer\n",
    "from sklearn.model_selection import train_test_split\n",
    "from sklearn import metrics\n",
    "import json\n",
    "import pickle"
   ]
  },
  {
   "cell_type": "code",
   "execution_count": 2,
   "metadata": {},
   "outputs": [],
   "source": [
    "cancer = load_breast_cancer()\n",
    "\n",
    "X_train, X_test, y_train, y_test = train_test_split(cancer.data, cancer.target, test_size=.3, random_state=42)\n",
    "\n",
    "model = Sequential()\n",
    "model.add(Dense(15, input_dim=30, activation=\"relu\"))\n",
    "model.add(Dense(15, activation=\"relu\"))\n",
    "model.add(Dense(15, activation=\"relu\"))\n",
    "model.add(Dense(1, activation=\"sigmoid\"))"
   ]
  },
  {
   "cell_type": "markdown",
   "metadata": {},
   "source": [
    "Acá es lo mismo que con la ANN normal, pero con la diferencia de que ahora se agregan más *hidden layers*"
   ]
  },
  {
   "cell_type": "code",
   "execution_count": 3,
   "metadata": {},
   "outputs": [
    {
     "name": "stdout",
     "output_type": "stream",
     "text": [
      "Epoch 1/20\n",
      "8/8 [==============================] - 0s 1ms/step - loss: 3.1473 - accuracy: 0.7462\n",
      "Epoch 2/20\n",
      "8/8 [==============================] - 0s 950us/step - loss: 0.4449 - accuracy: 0.8744\n",
      "Epoch 3/20\n",
      "8/8 [==============================] - 0s 834us/step - loss: 0.5158 - accuracy: 0.8518\n",
      "Epoch 4/20\n",
      "8/8 [==============================] - 0s 893us/step - loss: 0.3846 - accuracy: 0.8769\n",
      "Epoch 5/20\n",
      "8/8 [==============================] - 0s 850us/step - loss: 0.3416 - accuracy: 0.8894\n",
      "Epoch 6/20\n",
      "8/8 [==============================] - 0s 869us/step - loss: 0.5946 - accuracy: 0.8618\n",
      "Epoch 7/20\n",
      "8/8 [==============================] - 0s 914us/step - loss: 0.4048 - accuracy: 0.8869\n",
      "Epoch 8/20\n",
      "8/8 [==============================] - 0s 824us/step - loss: 0.4794 - accuracy: 0.8643\n",
      "Epoch 9/20\n",
      "8/8 [==============================] - 0s 944us/step - loss: 0.3858 - accuracy: 0.8618\n",
      "Epoch 10/20\n",
      "8/8 [==============================] - 0s 827us/step - loss: 0.4965 - accuracy: 0.8593\n",
      "Epoch 11/20\n",
      "8/8 [==============================] - 0s 860us/step - loss: 0.4719 - accuracy: 0.8618\n",
      "Epoch 12/20\n",
      "8/8 [==============================] - 0s 863us/step - loss: 0.4577 - accuracy: 0.8543\n",
      "Epoch 13/20\n",
      "8/8 [==============================] - 0s 848us/step - loss: 0.3069 - accuracy: 0.9095\n",
      "Epoch 14/20\n",
      "8/8 [==============================] - 0s 849us/step - loss: 0.6810 - accuracy: 0.8467\n",
      "Epoch 15/20\n",
      "8/8 [==============================] - 0s 799us/step - loss: 0.2703 - accuracy: 0.9070\n",
      "Epoch 16/20\n",
      "8/8 [==============================] - 0s 893us/step - loss: 0.6464 - accuracy: 0.8392\n",
      "Epoch 17/20\n",
      "8/8 [==============================] - 0s 808us/step - loss: 0.2983 - accuracy: 0.8995\n",
      "Epoch 18/20\n",
      "8/8 [==============================] - 0s 1ms/step - loss: 0.2788 - accuracy: 0.9171\n",
      "Epoch 19/20\n",
      "8/8 [==============================] - 0s 852us/step - loss: 0.4014 - accuracy: 0.8769\n",
      "Epoch 20/20\n",
      "8/8 [==============================] - 0s 811us/step - loss: 0.5549 - accuracy: 0.8367\n",
      "WARNING:tensorflow:From /home/francisco/anaconda3/lib/python3.8/site-packages/tensorflow/python/ops/resource_variable_ops.py:1813: calling BaseResourceVariable.__init__ (from tensorflow.python.ops.resource_variable_ops) with constraint is deprecated and will be removed in a future version.\n",
      "Instructions for updating:\n",
      "If using Keras pass *_constraint arguments to layers.\n",
      "INFO:tensorflow:Assets written to: DNN_model/assets\n",
      "WARNING:tensorflow:From <ipython-input-3-79dd889394e1>:11: Sequential.predict_classes (from tensorflow.python.keras.engine.sequential) is deprecated and will be removed after 2021-01-01.\n",
      "Instructions for updating:\n",
      "Please use instead:* `np.argmax(model.predict(x), axis=-1)`,   if your model does multi-class classification   (e.g. if it uses a `softmax` last-layer activation).* `(model.predict(x) > 0.5).astype(\"int32\")`,   if your model does binary classification   (e.g. if it uses a `sigmoid` last-layer activation).\n",
      "Accuracy:  0.9590643274853801\n",
      "              precision    recall  f1-score   support\n",
      "\n",
      "           0       0.98      0.90      0.94        63\n",
      "           1       0.95      0.99      0.97       108\n",
      "\n",
      "    accuracy                           0.96       171\n",
      "   macro avg       0.96      0.95      0.96       171\n",
      "weighted avg       0.96      0.96      0.96       171\n",
      "\n"
     ]
    }
   ],
   "source": [
    "model.compile(loss=\"binary_crossentropy\", optimizer=\"rmsprop\", metrics=[\"accuracy\"])\n",
    "\n",
    "history = model.fit(X_train, y_train, epochs=20, batch_size=50)\n",
    "\n",
    "json_file = open(\"DNN_history.json\", \"w\")\n",
    "json.dump(history.history, json_file)\n",
    "json_file.close()\n",
    "\n",
    "model.save(\"DNN_model\")\n",
    "\n",
    "predictions = model.predict_classes(X_test)\n",
    "print(\"Accuracy: \", metrics.accuracy_score(y_true=y_test, y_pred=predictions))\n",
    "print(metrics.classification_report(y_true=y_test, y_pred=predictions))"
   ]
  },
  {
   "cell_type": "code",
   "execution_count": 8,
   "metadata": {},
   "outputs": [],
   "source": [
    "json.dump(history.history, open(\"DNN_history.json\", \"w\"))"
   ]
  },
  {
   "cell_type": "code",
   "execution_count": 4,
   "metadata": {},
   "outputs": [
    {
     "data": {
      "text/plain": [
       "Text(0.5, 1.0, 'Loss vs Accuracy')"
      ]
     },
     "execution_count": 4,
     "metadata": {},
     "output_type": "execute_result"
    },
    {
     "data": {
      "image/png": "[encoded data removed]",
      "text/plain": [
       "<Figure size 432x288 with 1 Axes>"
      ]
     },
     "metadata": {
      "needs_background": "light"
     },
     "output_type": "display_data"
    }
   ],
   "source": [
    "import matplotlib.pyplot as plt\n",
    "plt.plot(history.history[\"loss\"], label=\"Loss\")\n",
    "plt.plot(history.history[\"accuracy\"], label=\"Accuracy\")\n",
    "plt.xticks(range(0,21, 2))\n",
    "plt.title(\"Loss vs Accuracy\")"
   ]
  },
  {
   "cell_type": "code",
   "execution_count": 5,
   "metadata": {},
   "outputs": [
    {
     "data": {
      "text/plain": [
       "Text(0.5, 1.0, 'Confusion matrix for ANN')"
      ]
     },
     "execution_count": 5,
     "metadata": {},
     "output_type": "execute_result"
    },
    {
     "data": {
      "image/png": "[encoded data removed]",
      "text/plain": [
       "<Figure size 432x288 with 2 Axes>"
      ]
     },
     "metadata": {
      "needs_background": "light"
     },
     "output_type": "display_data"
    }
   ],
   "source": [
    "import seaborn as sns\n",
    "sns.heatmap(metrics.confusion_matrix(y_pred=predictions, y_true=y_test), annot=True)\n",
    "plt.title(\"Confusion matrix for ANN\")"
   ]
  },
  {
   "cell_type": "markdown",
   "metadata": {},
   "source": [
    "Como se puede notar, las métricas en relación a la ANN mejoraron bastante. Con un accuracy el .95."
   ]
  }
 ],
 "metadata": {
  "kernelspec": {
   "display_name": "Python 3",
   "language": "python",
   "name": "python3"
  },
  "language_info": {
   "codemirror_mode": {
    "name": "ipython",
    "version": 3
   },
   "file_extension": ".py",
   "mimetype": "text/x-python",
   "name": "python",
   "nbconvert_exporter": "python",
   "pygments_lexer": "ipython3",
   "version": "3.8.5"
  }
 },
 "nbformat": 4,
 "nbformat_minor": 4
}
